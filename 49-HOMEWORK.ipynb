{
 "metadata": {
  "name": "49-HOMEWORK"
 },
 "nbformat": 3,
 "nbformat_minor": 0,
 "worksheets": [
  {
   "cells": [
    {
     "cell_type": "heading",
     "level": 1,
     "metadata": {},
     "source": [
      "Evaluation of Bag of Visual Words"
     ]
    },
    {
     "cell_type": "heading",
     "level": 2,
     "metadata": {},
     "source": [
      "Evaluation Framework"
     ]
    },
    {
     "cell_type": "markdown",
     "metadata": {},
     "source": [
      "Create a small evaluation framework based on the `41-visual-bow` worksheet. Your framework should allow customization of the interest point detector, patch normalizer, and classifier.\n",
      "\n",
      "To customize the classifier, the framework contains a factory method that returns an instance of an `sklearn`-like classifier (taking methods `fit` and `predict`).\n",
      "\n",
      "All parameters should be passed to the `__init__` method."
     ]
    },
    {
     "cell_type": "code",
     "collapsed": false,
     "input": [
      "class EvaluateBow:\n",
      "    def __init__(self,dictsize=256,sigma=3.0,patchsize=16):\n",
      "        # save parameters\n",
      "        pass\n",
      "    def interestPoints(self,image):\n",
      "        # provide a default implementation using Harris\n",
      "        pass\n",
      "    def pnorm(self,patch):\n",
      "        # provide a default implementation using grayscale conversion\n",
      "        pass\n",
      "    def makeClassifier(self):\n",
      "        return sklearn.linear.LogisticRegression()\n",
      "    def evaluate(self):\n",
      "        # implement this\n",
      "        # perform 5-fold cross validation over 1k.h5 dataset and report errors\n",
      "        pass\n",
      "    # ... more methods ...\n",
      "    \n",
      "EvaluateBow().evaluate()\n",
      "# ... prints performance report ..."
     ],
     "language": "python",
     "metadata": {},
     "outputs": [],
     "prompt_number": 5
    },
    {
     "cell_type": "markdown",
     "metadata": {},
     "source": [
      "Afterwards, you should be able to evaluate new interest point detectors, feature extractors, etc. by subclassing and overriding those parts you want to change."
     ]
    },
    {
     "cell_type": "code",
     "collapsed": false,
     "input": [
      "class EvaluateNewInterestPointDetector(EvaluateBow):\n",
      "    def interestPoints(self,image):\n",
      "        # provide new interest point detector\n",
      "        pass\n",
      "    \n",
      "EvaluateNewInterestPointDetector().evaluate()"
     ],
     "language": "python",
     "metadata": {},
     "outputs": [],
     "prompt_number": 3
    },
    {
     "cell_type": "markdown",
     "metadata": {},
     "source": [
      "For evaluation, implement 5-fold cross-validation. That is, train on different subsets of 800 training samples out of the 1000 sample data set, then evaluate on the remaining 200 samples.\n",
      "\n",
      "Estimate the sampling error of your error estimates and have the evaluator report that."
     ]
    },
    {
     "cell_type": "markdown",
     "metadata": {},
     "source": [
      "Using the default implementation using the Harris interest point detector, optimize the dictionary size, patch size, and scale."
     ]
    },
    {
     "cell_type": "heading",
     "level": 2,
     "metadata": {},
     "source": [
      "Influence of Interest Point Detectors"
     ]
    },
    {
     "cell_type": "markdown",
     "metadata": {},
     "source": [
      "Using the framework above, compare and evaluate the following interest point detectors:\n",
      "\n",
      "- the collection of corners from the Harris corner detector\n",
      "- the collection of local minima after Gaussian smoothing\n",
      "- the collection of local maxima after Gaussian smoothing\n",
      "- the collection of both local minima and local maxima after Gaussian smoothing\n",
      "- the collection of corners, local minima, and local maxima\n",
      "\n",
      "Evaluate performance of interest point detection at different scales (smoothing parameters).\n",
      "\n",
      "Compare and discuss your results."
     ]
    },
    {
     "cell_type": "heading",
     "level": 2,
     "metadata": {},
     "source": [
      "Color-Based Classification"
     ]
    },
    {
     "cell_type": "markdown",
     "metadata": {},
     "source": [
      "Come up with ways of incorporating color into the visual bag of word classifier you created above in order to achieve better classification rates."
     ]
    },
    {
     "cell_type": "code",
     "collapsed": false,
     "input": [],
     "language": "python",
     "metadata": {},
     "outputs": []
    }
   ],
   "metadata": {}
  }
 ]
}