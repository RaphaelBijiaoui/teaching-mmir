{
 "cells": [
  {
   "cell_type": "code",
   "execution_count": 3,
   "metadata": {
    "collapsed": false
   },
   "outputs": [],
   "source": [
    "\n",
    "import numpy,scipy,scipy.ndimage,zlib,pylab\n",
    "from pylab import imread,imshow,savefig\n",
    "from scipy import linalg,ndimage\n",
    "from scipy.ndimage import interpolation,filters,morphology,measurements,fourier\n",
    "from scipy.linalg import norm\n",
    "from scipy.fftpack import fft,ifft,fft2,ifft2\n",
    "figsize(8,8)"
   ]
  },
  {
   "cell_type": "markdown",
   "metadata": {},
   "source": [
    "# Sample Data for Line Finding"
   ]
  },
  {
   "cell_type": "code",
   "execution_count": 4,
   "metadata": {
    "collapsed": false
   },
   "outputs": [],
   "source": [
    "image = transpose(imread(\"points.png\")[::-1,:,0])\n",
    "labels,n = measurements.label(image)\n",
    "points = array(measurements.center_of_mass(image,labels,range(1,n)))"
   ]
  },
  {
   "cell_type": "code",
   "execution_count": 5,
   "metadata": {
    "collapsed": false
   },
   "outputs": [
    {
     "data": {
      "text/plain": [
       "[<matplotlib.lines.Line2D at 0x2ff4bd0>]"
      ]
     },
     "execution_count": 5,
     "metadata": {},
     "output_type": "execute_result"
    },
    {
     "data": {
      "image/png": "[encoded data removed]"
     },
     "metadata": {},
     "output_type": "display_data"
    }
   ],
   "source": [
    "plot(points[:,0],points[:,1],'.')"
   ]
  },
  {
   "cell_type": "markdown",
   "metadata": {},
   "source": [
    "# RAST Algorithm"
   ]
  },
  {
   "cell_type": "markdown",
   "metadata": {},
   "source": [
    "As in the Hough transform, the RAST algorithm consider the parameter space spanned by $m$ and $b$.\n",
    "\n",
    "However, while the Hough transform computes fixed buckets and relies on samples to land in the same bucket by chance, the RAST algorithm computes exact upper bounds on the possible match for a range of parameters.\n",
    "\n",
    "Assume we consider $m\\in[\\underline m,\\overline m]$, $b\\in[\\underline b,\\overline b]$\n",
    "\n",
    "For simplicity, assume $m\\ge 0$.\n",
    "\n",
    "Then the predicted $\\hat{y} \\in [\\underline y,\\overline y]$, where:\n",
    "\n",
    "$$ \\underline y = \\underline m x + \\underline b $$\n",
    "$$ \\overline y = \\overline m x + \\overline b $$"
   ]
  },
  {
   "cell_type": "markdown",
   "metadata": {},
   "source": [
    "Bounding the evaluation function:\n",
    "\n",
    "If, given $m\\in[\\underline m,\\overline m]$, $b\\in[\\underline b,\\overline b]$, we have $y \\in [\\underline y,\\overline y]$, then we get the following bounds on the error:\n",
    "\n",
    "$$ |\\hat{y}_i - y_i| \\le \\overline \\delta = \\max(0,\\underline{y}_i-y_i,y_i-\\overline{y_i}) $$\n",
    "\n",
    "An upper bound on the bounded error quality measure under error bound $\\epsilon$ is:\n",
    "\n",
    "$$ \\overline q = \\sum \\left\\lfloor \\overline\\delta_i \\le \\epsilon \\right\\rfloor $$\n",
    "\n",
    "An upper bound on the smooth error measure is:\n",
    "\n",
    "$$ \\overline q = \\sum \\max(0,1-\\frac{\\overline\\delta_i^2}{\\epsilon^2}) $$"
   ]
  },
  {
   "cell_type": "code",
   "execution_count": 6,
   "metadata": {
    "collapsed": false
   },
   "outputs": [],
   "source": [
    "def evaluate(points,box,eps=20.0):\n",
    "    m0,m1,b0,b1 = box\n",
    "    assert m0>=0\n",
    "    total = 0.0\n",
    "    for x,y in points:\n",
    "        y0 = m0*x+b0\n",
    "        y1 = m1*x+b1\n",
    "        if y<y0: delta = y0-y\n",
    "        elif y>y1: delta = y-y1\n",
    "        else: delta = 0\n",
    "        total += max(1-delta**2/eps**2,0)\n",
    "    return total"
   ]
  },
  {
   "cell_type": "markdown",
   "metadata": {},
   "source": [
    "Branch-and-Bound Search:\n",
    "\n",
    "- start with a box containing all parameters\n",
    "- maintain a record of the best solution so far\n",
    "- subdivide the box into subboxes\n",
    "- for each subbox, compute an upper bound of the quality measure $q$ for that box\n",
    "- if the upper bound for that box is below the best solution found so far, skip that subbox\n",
    "- otherwise, recurse on that box\n",
    "- if the box is small enough and contains a better solution than the one found so far, update the best solution\n",
    "\n",
    "We can do this depth first, breadth first, or best first."
   ]
  },
  {
   "cell_type": "code",
   "execution_count": 7,
   "metadata": {
    "collapsed": false
   },
   "outputs": [
    {
     "name": "stdout",
     "output_type": "stream",
     "text": [
      "11.4816377258 (1.0234375, 1.03125, 3.90625, 4.296875)\n"
     ]
    }
   ],
   "source": [
    "best_q = 0.0\n",
    "best = None\n",
    "def search(box):\n",
    "    global best_q,best\n",
    "    m0,m1,b0,b1 = box\n",
    "    q = evaluate(points,box)\n",
    "    if q<=best_q: return\n",
    "    if m1-m0<0.01 and b1-b0<2.0: \n",
    "        best_q = q\n",
    "        best = box\n",
    "        return\n",
    "    mc = (m0+m1)/2\n",
    "    bc = (b0+b1)/2\n",
    "    search((m0,mc,b0,bc))\n",
    "    search((mc,m1,b0,bc))\n",
    "    search((m0,mc,bc,b1))\n",
    "    search((mc,m1,bc,b1))\n",
    "search((0.0,2.0,0.0,100.0))\n",
    "print best_q,best"
   ]
  },
  {
   "cell_type": "code",
   "execution_count": 8,
   "metadata": {
    "collapsed": false
   },
   "outputs": [
    {
     "data": {
      "text/plain": [
       "[<matplotlib.lines.Line2D at 0x2db6690>]"
      ]
     },
     "execution_count": 8,
     "metadata": {},
     "output_type": "execute_result"
    },
    {
     "data": {
      "image/png": "[encoded data removed]"
     },
     "metadata": {},
     "output_type": "display_data"
    }
   ],
   "source": [
    "plot(points[:,0],points[:,1],'.')\n",
    "m = mean(best[0:2]); b = mean(best[2:4])\n",
    "plot([0,512],[b,m*512+b],'g-')"
   ]
  },
  {
   "cell_type": "code",
   "execution_count": 13,
   "metadata": {
    "collapsed": false
   },
   "outputs": [],
   "source": [
    "\n",
    "from matplotlib import patches\n",
    "best_q = 0.0\n",
    "best = None\n",
    "def search(box):\n",
    "    global best_q,best\n",
    "    m0,m1,b0,b1 = box\n",
    "    gca().add_patch(patches.Rectangle((m0,b0),m1-m0,b1-b0,edgecolor='red',facecolor='white'))\n",
    "    q = evaluate(points,box)\n",
    "    if q<=best_q: return\n",
    "    if m1-m0<0.01 and b1-b0<2.0: \n",
    "        best_q = q\n",
    "        best = box\n",
    "        return\n",
    "    mc = (m0+m1)/2\n",
    "    bc = (b0+b1)/2\n",
    "    search((m0,mc,b0,bc))\n",
    "    search((mc,m1,b0,bc))\n",
    "    search((m0,mc,bc,b1))\n",
    "    search((mc,m1,bc,b1))"
   ]
  },
  {
   "cell_type": "markdown",
   "metadata": {},
   "source": [
    "If we repeat that search with some graphics commands added, we see how effective the branch-and-bound algorithm is.\n",
    "\n"
   ]
  },
  {
   "cell_type": "code",
   "execution_count": 14,
   "metadata": {
    "collapsed": false
   },
   "outputs": [
    {
     "name": "stdout",
     "output_type": "stream",
     "text": [
      "11.4816377258 (1.0234375, 1.03125, 3.90625, 4.296875)\n"
     ]
    },
    {
     "data": {
      "image/png": "[encoded data removed]"
     },
     "metadata": {},
     "output_type": "display_data"
    }
   ],
   "source": [
    "xlim((0,2.5)); ylim((0,105.0))\n",
    "search((0.0,2.0,0.0,100.0))\n",
    "print best_q,best"
   ]
  }
 ],
 "metadata": {},
 "nbformat": 4,
 "nbformat_minor": 0
}