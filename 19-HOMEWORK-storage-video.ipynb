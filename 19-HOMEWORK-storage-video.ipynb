{
 "metadata": {
  "name": "19-HOMEWORK-storage-video"
 },
 "nbformat": 3,
 "nbformat_minor": 0,
 "worksheets": [
  {
   "cells": [
    {
     "cell_type": "heading",
     "level": 1,
     "metadata": {},
     "source": [
      "Exercise 1"
     ]
    },
    {
     "cell_type": "markdown",
     "metadata": {},
     "source": [
      "Improve keyframe detection with clustering."
     ]
    },
    {
     "cell_type": "markdown",
     "metadata": {},
     "source": [
      "(a) Speed up computation of video frame clustering (as shown in the lecture) by performing PCA prior to using the k-means algorithm."
     ]
    },
    {
     "cell_type": "markdown",
     "metadata": {},
     "source": [
      "(b) Implement better video segmentation using the improved PCA/k-means:\n",
      "\n",
      "- predict for each frame which prototype it is closest to\n",
      "- remove prototypes that are used rarely\n",
      "- reassign frames to prototypes\n",
      "- for each stretch of frames that are labeled with the same prototype, pick out a representative one"
     ]
    },
    {
     "cell_type": "markdown",
     "metadata": {},
     "source": [
      "(c) (Optional) Use `sklearn.mixtures.GMM` instead of `sklearn.clusters.KMeans` to get the representative frames. Use a diagonal covariance matrix and speed up clustering with PCA as well. What do the diagonal covariance matrices mean?"
     ]
    },
    {
     "cell_type": "markdown",
     "metadata": {},
     "source": [
      "Hand in Exercise 1 as an iPython Notebook."
     ]
    },
    {
     "cell_type": "heading",
     "level": 1,
     "metadata": {},
     "source": [
      "Exercise 2"
     ]
    },
    {
     "cell_type": "markdown",
     "metadata": {},
     "source": [
      "Implement a command line tool to load keyframes of videos into an SQLite database.\n",
      "\n",
      "Use the same schema as in the lecture, but add a column indicating which frame the keyframe represents in the video.\n",
      "\n",
      "Use your improved keyframe detection above as part of this command line tool (you need to copy and paste parts of Exercise 1 into the command line script.)\n",
      "\n",
      "Deliver your command line tool as a single Python script. It should use the `argparse` library to present a usable command line interface. Usage should be:\n",
      "\n",
      "    mmir-load-keyframes -o database.db video.mp4 [video2.mp4 ...]\n",
      "\n",
      "Options should include:\n",
      "\n",
      "    -N : total number of keyframes / prototypes\n",
      "    -n : number of keyframes / prototypes per minute of video (specify only -n or -N)\n",
      "    -M : minimum number of frames matched by a prototype in order to keep it"
     ]
    },
    {
     "cell_type": "code",
     "collapsed": false,
     "input": [],
     "language": "python",
     "metadata": {},
     "outputs": []
    }
   ],
   "metadata": {}
  }
 ]
}